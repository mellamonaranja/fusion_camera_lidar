{
 "cells": [
  {
   "cell_type": "code",
   "execution_count": 1,
   "id": "b0ec2a20",
   "metadata": {},
   "outputs": [
    {
     "name": "stdout",
     "output_type": "stream",
     "text": [
      "Jupyter environment detected. Enabling Open3D WebVisualizer.\n",
      "[Open3D INFO] WebRTC GUI backend enabled.\n",
      "[Open3D INFO] WebRTCWindowSystem: HTTP handshake server disabled.\n"
     ]
    }
   ],
   "source": [
    "import numpy as np\n",
    "import open3d as o3d\n",
    "import matplotlib.pyplot as plt\n",
    "import cv2"
   ]
  },
  {
   "cell_type": "code",
   "execution_count": null,
   "id": "2478fac0",
   "metadata": {},
   "outputs": [],
   "source": [
    "def load_kitti_bin(bin_path):\n",
    "    point_cloud = np.fromfile(bin_path, dtype=np.float32).reshape(-1, 4)\n",
    "    return point_cloud[:, :3]  # Ignore reflectance\n",
    "\n",
    "def visualize_point_cloud(points, colors=None):\n",
    "    pcd = o3d.geometry.PointCloud()\n",
    "    pcd.points = o3d.utility.Vector3dVector(points)\n",
    "    if colors is not None:\n",
    "        pcd.colors = o3d.utility.Vector3dVector(colors)\n",
    "    o3d.visualization.draw_geometries([pcd])"
   ]
  },
  {
   "cell_type": "code",
   "execution_count": null,
   "id": "994aaf29",
   "metadata": {},
   "outputs": [],
   "source": [
    "# raw lidar visualization\n",
    "\n",
    "bin_path = \"/home/julia/workspace/datasets/sequences/05/velodyne/000000.bin\"  # Replace with a valid .bin file path\n",
    "\n",
    "points = load_kitti_bin(bin_path)\n",
    "visualize_point_cloud(points)\n"
   ]
  },
  {
   "cell_type": "code",
   "execution_count": null,
   "id": "1b5cd396",
   "metadata": {},
   "outputs": [],
   "source": [
    "# visualization after removing the ground\n",
    "\n",
    "def remove_ground_by_height(points, z_threshold=-1.4):\n",
    "    \"\"\"\n",
    "    Remove ground points using a Z-height threshold.\n",
    "    Points below z_threshold are considered ground.\n",
    "    \"\"\"\n",
    "    ground_mask = points[:, 2] < z_threshold\n",
    "    non_ground_points = points[~ground_mask]\n",
    "    ground_points = points[ground_mask]\n",
    "    return non_ground_points, ground_points\n",
    "\n",
    "def visualize_ground_removal(non_ground, ground):\n",
    "    \"\"\"Visualize ground and non-ground points in different colors.\"\"\"\n",
    "    pcd_ground = o3d.geometry.PointCloud()\n",
    "    pcd_ground.points = o3d.utility.Vector3dVector(ground)\n",
    "    pcd_ground.paint_uniform_color([0.5, 0.5, 0.5])  # Gray\n",
    "\n",
    "    pcd_objects = o3d.geometry.PointCloud()\n",
    "    pcd_objects.points = o3d.utility.Vector3dVector(non_ground)\n",
    "    pcd_objects.paint_uniform_color([1, 0, 0])  # Red\n",
    "\n",
    "    o3d.visualization.draw_geometries([pcd_ground, pcd_objects], window_name=\"Ground Removal\")\n"
   ]
  },
  {
   "cell_type": "code",
   "execution_count": 15,
   "id": "60da557b",
   "metadata": {},
   "outputs": [],
   "source": [
    "# Load LiDAR points\n",
    "bin_file = bin_path\n",
    "points = np.fromfile(bin_file, dtype=np.float32).reshape(-1, 4)[:, :3]\n",
    "\n",
    "# Apply ground removal\n",
    "non_ground, ground = remove_ground_by_height(points)"
   ]
  },
  {
   "cell_type": "code",
   "execution_count": null,
   "id": "b04d72a2",
   "metadata": {},
   "outputs": [],
   "source": [
    "# ground = gray, non-ground = red\n",
    "\n",
    "visualize_ground_removal(non_ground, ground)\n"
   ]
  },
  {
   "cell_type": "code",
   "execution_count": null,
   "id": "1413af52",
   "metadata": {},
   "outputs": [],
   "source": [
    "#object clustering using dbscan\n",
    "\n",
    "def cluster_dbscan(points, eps=0.5, min_points=10):\n",
    "    \"\"\"\n",
    "    Apply DBSCAN clustering to segment objects in the non-ground point cloud.\n",
    "    eps: distance threshold\n",
    "    min_points: minimum number of points to form a cluster\n",
    "    \"\"\"\n",
    "    pcd = o3d.geometry.PointCloud()\n",
    "    pcd.points = o3d.utility.Vector3dVector(points)\n",
    "\n",
    "    labels = np.array(pcd.cluster_dbscan(eps=eps, min_points=min_points, print_progress=True))\n",
    "    return pcd, labels\n",
    "\n",
    "def visualize_clusters(pcd, labels):\n",
    "    \"\"\"\n",
    "    Visualize the clustered point cloud. Each cluster is shown in a different color.\n",
    "    \"\"\"\n",
    "    max_label = labels.max()\n",
    "    print(f\"Detected {max_label + 1} clusters\")\n",
    "\n",
    "    # Assign random colors to each cluster\n",
    "    colors = plt.get_cmap(\"tab20\")(labels / (max_label + 1 if max_label > 0 else 1))\n",
    "    colors[labels < 0] = [0, 0, 0, 1]  # Noise as black\n",
    "    pcd.colors = o3d.utility.Vector3dVector(colors[:, :3])  # RGB only\n",
    "    o3d.visualization.draw_geometries([pcd], window_name=\"DBSCAN Object Clusters\")\n",
    "\n"
   ]
  },
  {
   "cell_type": "code",
   "execution_count": null,
   "id": "36370834",
   "metadata": {},
   "outputs": [
    {
     "name": "stdout",
     "output_type": "stream",
     "text": [
      "Precompute neighbors.[================>           Detected 181 clusters\n",
      "Precompute neighbors.[========================================] 100%\n",
      "Clustering[=====================================>  ] 92%\r"
     ]
    }
   ],
   "source": [
    "\n",
    "# Cluster non-ground points\n",
    "pcd, labels = cluster_dbscan(non_ground, eps=0.5, min_points=10)\n",
    "\n",
    "# Visualize clusters\n",
    "# each cluster=unique color, noise = black\n",
    "visualize_clusters(pcd, labels)\n"
   ]
  },
  {
   "cell_type": "code",
   "execution_count": null,
   "id": "67930808",
   "metadata": {},
   "outputs": [],
   "source": [
    "#L-shape bounding box \n",
    "\n",
    "def fit_l_shape_box(cluster_points):\n",
    "    \"\"\"\n",
    "    Fit an L-shape or oriented bounding box to a 2D-projected cluster (x, y).\n",
    "    Returns center, angle, width, height of the rectangle.\n",
    "    \"\"\"\n",
    "    if len(cluster_points) < 5:\n",
    "        return None  # Not enough points\n",
    "\n",
    "    points_2d = np.array(cluster_points)[:, :2].astype(np.float32)  # Project to (x, y)\n",
    "    \n",
    "    rect = cv2.minAreaRect(points_2d)\n",
    "    box = cv2.boxPoints(rect)\n",
    "    box = np.intp(box)\n",
    "\n",
    "    return rect, box\n",
    "\n",
    "def draw_l_shape_boxes(pcd, labels, eps=0.5, min_points=10):\n",
    "    \"\"\"\n",
    "    Fit and draw L-shape boxes for each detected cluster.\n",
    "    \"\"\"\n",
    "    clusters = {}\n",
    "    for i in range(labels.max() + 1):\n",
    "        clusters[i] = []\n",
    "\n",
    "    points = np.asarray(pcd.points)\n",
    "    for idx, label in enumerate(labels):\n",
    "        if label != -1:  # Ignore noise\n",
    "            clusters[label].append(points[idx])\n",
    "\n",
    "    vis_cloud = pcd\n",
    "    geometries = [vis_cloud]\n",
    "\n",
    "    for cid, cluster_pts in clusters.items():\n",
    "        cluster_pts = np.array(cluster_pts)\n",
    "        result = fit_l_shape_box(cluster_pts)\n",
    "        if result is None:\n",
    "            continue\n",
    "        rect, box = result\n",
    "\n",
    "        # Create bounding box as line set for visualization\n",
    "        lines = [\n",
    "            [0, 1], [1, 2], [2, 3], [3, 0]\n",
    "        ]\n",
    "        colors = [[1, 0, 0] for _ in lines]  # Red lines\n",
    "        line_set = o3d.geometry.LineSet()\n",
    "        box_3d = np.c_[box, np.zeros(4)]  # Add z=0 for 3D visualization\n",
    "        line_set.points = o3d.utility.Vector3dVector(box_3d)\n",
    "        line_set.lines = o3d.utility.Vector2iVector(lines)\n",
    "        line_set.colors = o3d.utility.Vector3dVector(colors)\n",
    "        geometries.append(line_set)\n",
    "\n",
    "    o3d.visualization.draw_geometries(geometries, window_name=\"L-Shape Boxes on Clusters\")\n",
    "\n"
   ]
  },
  {
   "cell_type": "code",
   "execution_count": null,
   "id": "d5843008",
   "metadata": {},
   "outputs": [],
   "source": [
    "# Apply L-shape fitting on previously clustered pcd and labels\n",
    "# visualize each box with red edges\n",
    "\n",
    "draw_l_shape_boxes(pcd, labels)\n"
   ]
  }
 ],
 "metadata": {
  "kernelspec": {
   "display_name": "camera_lidar_env",
   "language": "python",
   "name": "python3"
  },
  "language_info": {
   "codemirror_mode": {
    "name": "ipython",
    "version": 3
   },
   "file_extension": ".py",
   "mimetype": "text/x-python",
   "name": "python",
   "nbconvert_exporter": "python",
   "pygments_lexer": "ipython3",
   "version": "3.8.20"
  }
 },
 "nbformat": 4,
 "nbformat_minor": 5
}
